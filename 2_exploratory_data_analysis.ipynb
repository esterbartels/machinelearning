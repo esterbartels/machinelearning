{
 "cells": [
  {
   "cell_type": "markdown",
   "metadata": {},
   "source": [
    "# Exploring Fitbit user data 2"
   ]
  },
  {
   "cell_type": "markdown",
   "metadata": {},
   "source": [
    "### The data"
   ]
  },
  {
   "cell_type": "code",
   "execution_count": 1,
   "metadata": {
    "scrolled": true
   },
   "outputs": [
    {
     "data": {
      "text/html": [
       "<div>\n",
       "<style scoped>\n",
       "    .dataframe tbody tr th:only-of-type {\n",
       "        vertical-align: middle;\n",
       "    }\n",
       "\n",
       "    .dataframe tbody tr th {\n",
       "        vertical-align: top;\n",
       "    }\n",
       "\n",
       "    .dataframe thead th {\n",
       "        text-align: right;\n",
       "    }\n",
       "</style>\n",
       "<table border=\"1\" class=\"dataframe\">\n",
       "  <thead>\n",
       "    <tr style=\"text-align: right;\">\n",
       "      <th></th>\n",
       "      <th>id</th>\n",
       "      <th>20-6-2013</th>\n",
       "      <th>21-6-2013</th>\n",
       "      <th>22-6-2013</th>\n",
       "      <th>23-6-2013</th>\n",
       "      <th>24-6-2013</th>\n",
       "      <th>25-6-2013</th>\n",
       "      <th>26-6-2013</th>\n",
       "      <th>27-6-2013</th>\n",
       "      <th>28-6-2013</th>\n",
       "      <th>...</th>\n",
       "      <th>12-5-2014</th>\n",
       "      <th>13-5-2014</th>\n",
       "      <th>city</th>\n",
       "      <th>gender</th>\n",
       "      <th>age</th>\n",
       "      <th>hh_size</th>\n",
       "      <th>education</th>\n",
       "      <th>education_1</th>\n",
       "      <th>height</th>\n",
       "      <th>weight</th>\n",
       "    </tr>\n",
       "  </thead>\n",
       "  <tbody>\n",
       "    <tr>\n",
       "      <th>0</th>\n",
       "      <td>1</td>\n",
       "      <td>NaN</td>\n",
       "      <td>NaN</td>\n",
       "      <td>NaN</td>\n",
       "      <td>NaN</td>\n",
       "      <td>3941.0</td>\n",
       "      <td>15733.0</td>\n",
       "      <td>9929.0</td>\n",
       "      <td>12879.0</td>\n",
       "      <td>10541.0</td>\n",
       "      <td>...</td>\n",
       "      <td>NaN</td>\n",
       "      <td>NaN</td>\n",
       "      <td>Bordeaux</td>\n",
       "      <td>Male</td>\n",
       "      <td>25-34</td>\n",
       "      <td>4</td>\n",
       "      <td>4</td>\n",
       "      <td>Master or doctorate</td>\n",
       "      <td>178.0</td>\n",
       "      <td>98.0</td>\n",
       "    </tr>\n",
       "    <tr>\n",
       "      <th>1</th>\n",
       "      <td>2</td>\n",
       "      <td>NaN</td>\n",
       "      <td>NaN</td>\n",
       "      <td>10473.0</td>\n",
       "      <td>705.0</td>\n",
       "      <td>4287.0</td>\n",
       "      <td>5507.0</td>\n",
       "      <td>4024.0</td>\n",
       "      <td>3926.0</td>\n",
       "      <td>14595.0</td>\n",
       "      <td>...</td>\n",
       "      <td>NaN</td>\n",
       "      <td>NaN</td>\n",
       "      <td>Lille</td>\n",
       "      <td>Male</td>\n",
       "      <td>35-44</td>\n",
       "      <td>1</td>\n",
       "      <td>3</td>\n",
       "      <td>Bachelor</td>\n",
       "      <td>180.0</td>\n",
       "      <td>77.0</td>\n",
       "    </tr>\n",
       "    <tr>\n",
       "      <th>2</th>\n",
       "      <td>3</td>\n",
       "      <td>NaN</td>\n",
       "      <td>11428.0</td>\n",
       "      <td>12523.0</td>\n",
       "      <td>2553.0</td>\n",
       "      <td>190.0</td>\n",
       "      <td>2164.0</td>\n",
       "      <td>8185.0</td>\n",
       "      <td>9630.0</td>\n",
       "      <td>8983.0</td>\n",
       "      <td>...</td>\n",
       "      <td>1129.0</td>\n",
       "      <td>NaN</td>\n",
       "      <td>Montpellier</td>\n",
       "      <td>Male</td>\n",
       "      <td>25-34</td>\n",
       "      <td>2</td>\n",
       "      <td>2</td>\n",
       "      <td>Master or doctorate</td>\n",
       "      <td>180.0</td>\n",
       "      <td>83.0</td>\n",
       "    </tr>\n",
       "    <tr>\n",
       "      <th>3</th>\n",
       "      <td>4</td>\n",
       "      <td>NaN</td>\n",
       "      <td>NaN</td>\n",
       "      <td>NaN</td>\n",
       "      <td>NaN</td>\n",
       "      <td>NaN</td>\n",
       "      <td>NaN</td>\n",
       "      <td>NaN</td>\n",
       "      <td>NaN</td>\n",
       "      <td>NaN</td>\n",
       "      <td>...</td>\n",
       "      <td>NaN</td>\n",
       "      <td>NaN</td>\n",
       "      <td>Lyon</td>\n",
       "      <td>Male</td>\n",
       "      <td>&lt;25</td>\n",
       "      <td>1</td>\n",
       "      <td>1</td>\n",
       "      <td>Bachelor</td>\n",
       "      <td>178.0</td>\n",
       "      <td>80.0</td>\n",
       "    </tr>\n",
       "    <tr>\n",
       "      <th>4</th>\n",
       "      <td>5</td>\n",
       "      <td>NaN</td>\n",
       "      <td>NaN</td>\n",
       "      <td>NaN</td>\n",
       "      <td>NaN</td>\n",
       "      <td>NaN</td>\n",
       "      <td>NaN</td>\n",
       "      <td>NaN</td>\n",
       "      <td>NaN</td>\n",
       "      <td>NaN</td>\n",
       "      <td>...</td>\n",
       "      <td>NaN</td>\n",
       "      <td>NaN</td>\n",
       "      <td>Montpellier</td>\n",
       "      <td>Female</td>\n",
       "      <td>25-34</td>\n",
       "      <td>3</td>\n",
       "      <td>4</td>\n",
       "      <td>Bachelor</td>\n",
       "      <td>167.0</td>\n",
       "      <td>61.0</td>\n",
       "    </tr>\n",
       "  </tbody>\n",
       "</table>\n",
       "<p>5 rows × 337 columns</p>\n",
       "</div>"
      ],
      "text/plain": [
       "   id  20-6-2013  21-6-2013  22-6-2013  23-6-2013  24-6-2013  25-6-2013  \\\n",
       "0   1        NaN        NaN        NaN        NaN     3941.0    15733.0   \n",
       "1   2        NaN        NaN    10473.0      705.0     4287.0     5507.0   \n",
       "2   3        NaN    11428.0    12523.0     2553.0      190.0     2164.0   \n",
       "3   4        NaN        NaN        NaN        NaN        NaN        NaN   \n",
       "4   5        NaN        NaN        NaN        NaN        NaN        NaN   \n",
       "\n",
       "   26-6-2013  27-6-2013  28-6-2013  ...  12-5-2014  13-5-2014         city  \\\n",
       "0     9929.0    12879.0    10541.0  ...        NaN        NaN     Bordeaux   \n",
       "1     4024.0     3926.0    14595.0  ...        NaN        NaN        Lille   \n",
       "2     8185.0     9630.0     8983.0  ...     1129.0        NaN  Montpellier   \n",
       "3        NaN        NaN        NaN  ...        NaN        NaN         Lyon   \n",
       "4        NaN        NaN        NaN  ...        NaN        NaN  Montpellier   \n",
       "\n",
       "   gender    age  hh_size  education          education_1  height  weight  \n",
       "0    Male  25-34        4          4  Master or doctorate   178.0    98.0  \n",
       "1    Male  35-44        1          3             Bachelor   180.0    77.0  \n",
       "2    Male  25-34        2          2  Master or doctorate   180.0    83.0  \n",
       "3    Male    <25        1          1             Bachelor   178.0    80.0  \n",
       "4  Female  25-34        3          4             Bachelor   167.0    61.0  \n",
       "\n",
       "[5 rows x 337 columns]"
      ]
     },
     "execution_count": 1,
     "metadata": {},
     "output_type": "execute_result"
    }
   ],
   "source": [
    "# Import libraries\n",
    "import seaborn as sns\n",
    "import pandas as pd\n",
    "import matplotlib.pyplot as plt\n",
    "from scipy.stats.stats import pearsonr\n",
    "\n",
    "# Load csv-file 1\n",
    "df_1 = pd.read_csv(\"steps.csv\", sep=\";\")\n",
    "\n",
    "# Load csv-file 2\n",
    "df_2 = pd.read_csv(\"survey.csv\")\n",
    "\n",
    "# Merge csv's\n",
    "df = pd.merge(df_1, df_2, on=\"id\")\n",
    "\n",
    "df.head()"
   ]
  },
  {
   "cell_type": "markdown",
   "metadata": {},
   "source": [
    "### Calculations and subsets"
   ]
  },
  {
   "cell_type": "code",
   "execution_count": 2,
   "metadata": {
    "scrolled": false
   },
   "outputs": [
    {
     "data": {
      "text/html": [
       "<div>\n",
       "<style scoped>\n",
       "    .dataframe tbody tr th:only-of-type {\n",
       "        vertical-align: middle;\n",
       "    }\n",
       "\n",
       "    .dataframe tbody tr th {\n",
       "        vertical-align: top;\n",
       "    }\n",
       "\n",
       "    .dataframe thead th {\n",
       "        text-align: right;\n",
       "    }\n",
       "</style>\n",
       "<table border=\"1\" class=\"dataframe\">\n",
       "  <thead>\n",
       "    <tr style=\"text-align: right;\">\n",
       "      <th></th>\n",
       "      <th>id</th>\n",
       "      <th>20-6-2013</th>\n",
       "      <th>21-6-2013</th>\n",
       "      <th>22-6-2013</th>\n",
       "      <th>23-6-2013</th>\n",
       "      <th>24-6-2013</th>\n",
       "      <th>25-6-2013</th>\n",
       "      <th>26-6-2013</th>\n",
       "      <th>27-6-2013</th>\n",
       "      <th>28-6-2013</th>\n",
       "      <th>...</th>\n",
       "      <th>13-5-2014</th>\n",
       "      <th>city</th>\n",
       "      <th>gender</th>\n",
       "      <th>age</th>\n",
       "      <th>hh_size</th>\n",
       "      <th>education</th>\n",
       "      <th>education_1</th>\n",
       "      <th>height</th>\n",
       "      <th>weight</th>\n",
       "      <th>mean_steps</th>\n",
       "    </tr>\n",
       "  </thead>\n",
       "  <tbody>\n",
       "    <tr>\n",
       "      <th>0</th>\n",
       "      <td>1</td>\n",
       "      <td>NaN</td>\n",
       "      <td>NaN</td>\n",
       "      <td>NaN</td>\n",
       "      <td>NaN</td>\n",
       "      <td>3941.0</td>\n",
       "      <td>15733.0</td>\n",
       "      <td>9929.0</td>\n",
       "      <td>12879.0</td>\n",
       "      <td>10541.0</td>\n",
       "      <td>...</td>\n",
       "      <td>NaN</td>\n",
       "      <td>Bordeaux</td>\n",
       "      <td>Male</td>\n",
       "      <td>25-34</td>\n",
       "      <td>4</td>\n",
       "      <td>4</td>\n",
       "      <td>Master or doctorate</td>\n",
       "      <td>178.0</td>\n",
       "      <td>98.0</td>\n",
       "      <td>10206.0</td>\n",
       "    </tr>\n",
       "    <tr>\n",
       "      <th>1</th>\n",
       "      <td>2</td>\n",
       "      <td>NaN</td>\n",
       "      <td>NaN</td>\n",
       "      <td>10473.0</td>\n",
       "      <td>705.0</td>\n",
       "      <td>4287.0</td>\n",
       "      <td>5507.0</td>\n",
       "      <td>4024.0</td>\n",
       "      <td>3926.0</td>\n",
       "      <td>14595.0</td>\n",
       "      <td>...</td>\n",
       "      <td>NaN</td>\n",
       "      <td>Lille</td>\n",
       "      <td>Male</td>\n",
       "      <td>35-44</td>\n",
       "      <td>1</td>\n",
       "      <td>3</td>\n",
       "      <td>Bachelor</td>\n",
       "      <td>180.0</td>\n",
       "      <td>77.0</td>\n",
       "      <td>5687.0</td>\n",
       "    </tr>\n",
       "    <tr>\n",
       "      <th>2</th>\n",
       "      <td>3</td>\n",
       "      <td>NaN</td>\n",
       "      <td>11428.0</td>\n",
       "      <td>12523.0</td>\n",
       "      <td>2553.0</td>\n",
       "      <td>190.0</td>\n",
       "      <td>2164.0</td>\n",
       "      <td>8185.0</td>\n",
       "      <td>9630.0</td>\n",
       "      <td>8983.0</td>\n",
       "      <td>...</td>\n",
       "      <td>NaN</td>\n",
       "      <td>Montpellier</td>\n",
       "      <td>Male</td>\n",
       "      <td>25-34</td>\n",
       "      <td>2</td>\n",
       "      <td>2</td>\n",
       "      <td>Master or doctorate</td>\n",
       "      <td>180.0</td>\n",
       "      <td>83.0</td>\n",
       "      <td>8302.0</td>\n",
       "    </tr>\n",
       "    <tr>\n",
       "      <th>3</th>\n",
       "      <td>4</td>\n",
       "      <td>NaN</td>\n",
       "      <td>NaN</td>\n",
       "      <td>NaN</td>\n",
       "      <td>NaN</td>\n",
       "      <td>NaN</td>\n",
       "      <td>NaN</td>\n",
       "      <td>NaN</td>\n",
       "      <td>NaN</td>\n",
       "      <td>NaN</td>\n",
       "      <td>...</td>\n",
       "      <td>NaN</td>\n",
       "      <td>Lyon</td>\n",
       "      <td>Male</td>\n",
       "      <td>&lt;25</td>\n",
       "      <td>1</td>\n",
       "      <td>1</td>\n",
       "      <td>Bachelor</td>\n",
       "      <td>178.0</td>\n",
       "      <td>80.0</td>\n",
       "      <td>3633.0</td>\n",
       "    </tr>\n",
       "    <tr>\n",
       "      <th>4</th>\n",
       "      <td>5</td>\n",
       "      <td>NaN</td>\n",
       "      <td>NaN</td>\n",
       "      <td>NaN</td>\n",
       "      <td>NaN</td>\n",
       "      <td>NaN</td>\n",
       "      <td>NaN</td>\n",
       "      <td>NaN</td>\n",
       "      <td>NaN</td>\n",
       "      <td>NaN</td>\n",
       "      <td>...</td>\n",
       "      <td>NaN</td>\n",
       "      <td>Montpellier</td>\n",
       "      <td>Female</td>\n",
       "      <td>25-34</td>\n",
       "      <td>3</td>\n",
       "      <td>4</td>\n",
       "      <td>Bachelor</td>\n",
       "      <td>167.0</td>\n",
       "      <td>61.0</td>\n",
       "      <td>5312.0</td>\n",
       "    </tr>\n",
       "  </tbody>\n",
       "</table>\n",
       "<p>5 rows × 338 columns</p>\n",
       "</div>"
      ],
      "text/plain": [
       "   id  20-6-2013  21-6-2013  22-6-2013  23-6-2013  24-6-2013  25-6-2013  \\\n",
       "0   1        NaN        NaN        NaN        NaN     3941.0    15733.0   \n",
       "1   2        NaN        NaN    10473.0      705.0     4287.0     5507.0   \n",
       "2   3        NaN    11428.0    12523.0     2553.0      190.0     2164.0   \n",
       "3   4        NaN        NaN        NaN        NaN        NaN        NaN   \n",
       "4   5        NaN        NaN        NaN        NaN        NaN        NaN   \n",
       "\n",
       "   26-6-2013  27-6-2013  28-6-2013  ...  13-5-2014         city  gender  \\\n",
       "0     9929.0    12879.0    10541.0  ...        NaN     Bordeaux    Male   \n",
       "1     4024.0     3926.0    14595.0  ...        NaN        Lille    Male   \n",
       "2     8185.0     9630.0     8983.0  ...        NaN  Montpellier    Male   \n",
       "3        NaN        NaN        NaN  ...        NaN         Lyon    Male   \n",
       "4        NaN        NaN        NaN  ...        NaN  Montpellier  Female   \n",
       "\n",
       "     age  hh_size  education          education_1  height  weight  mean_steps  \n",
       "0  25-34        4          4  Master or doctorate   178.0    98.0     10206.0  \n",
       "1  35-44        1          3             Bachelor   180.0    77.0      5687.0  \n",
       "2  25-34        2          2  Master or doctorate   180.0    83.0      8302.0  \n",
       "3    <25        1          1             Bachelor   178.0    80.0      3633.0  \n",
       "4  25-34        3          4             Bachelor   167.0    61.0      5312.0  \n",
       "\n",
       "[5 rows x 338 columns]"
      ]
     },
     "execution_count": 2,
     "metadata": {},
     "output_type": "execute_result"
    }
   ],
   "source": [
    "# Calculate mean steps per user\n",
    "df[\"mean_steps\"] = round(df.loc[:, \"20-6-2013\":\"13-5-2014\"].mean(axis=1))\n",
    "\n",
    "df.head()"
   ]
  },
  {
   "cell_type": "code",
   "execution_count": 3,
   "metadata": {},
   "outputs": [],
   "source": [
    "# Subset the data\n",
    "df_subset = df[(df[\"mean_steps\"] < 20000) & (df[\"weight\"].between(45, 200)) & (df[\"height\"].between(100,210))]"
   ]
  },
  {
   "cell_type": "markdown",
   "metadata": {},
   "source": [
    "### The relation between mean steps per user, weight, and height"
   ]
  },
  {
   "cell_type": "code",
   "execution_count": 4,
   "metadata": {},
   "outputs": [
    {
     "data": {
      "text/html": [
       "<div>\n",
       "<style scoped>\n",
       "    .dataframe tbody tr th:only-of-type {\n",
       "        vertical-align: middle;\n",
       "    }\n",
       "\n",
       "    .dataframe tbody tr th {\n",
       "        vertical-align: top;\n",
       "    }\n",
       "\n",
       "    .dataframe thead th {\n",
       "        text-align: right;\n",
       "    }\n",
       "</style>\n",
       "<table border=\"1\" class=\"dataframe\">\n",
       "  <thead>\n",
       "    <tr style=\"text-align: right;\">\n",
       "      <th></th>\n",
       "      <th>mean_steps</th>\n",
       "      <th>weight</th>\n",
       "      <th>height</th>\n",
       "    </tr>\n",
       "  </thead>\n",
       "  <tbody>\n",
       "    <tr>\n",
       "      <th>mean_steps</th>\n",
       "      <td>1.00</td>\n",
       "      <td>-0.07</td>\n",
       "      <td>-0.08</td>\n",
       "    </tr>\n",
       "    <tr>\n",
       "      <th>weight</th>\n",
       "      <td>-0.07</td>\n",
       "      <td>1.00</td>\n",
       "      <td>0.51</td>\n",
       "    </tr>\n",
       "    <tr>\n",
       "      <th>height</th>\n",
       "      <td>-0.08</td>\n",
       "      <td>0.51</td>\n",
       "      <td>1.00</td>\n",
       "    </tr>\n",
       "  </tbody>\n",
       "</table>\n",
       "</div>"
      ],
      "text/plain": [
       "            mean_steps  weight  height\n",
       "mean_steps        1.00   -0.07   -0.08\n",
       "weight           -0.07    1.00    0.51\n",
       "height           -0.08    0.51    1.00"
      ]
     },
     "execution_count": 4,
     "metadata": {},
     "output_type": "execute_result"
    }
   ],
   "source": [
    "# Correlation matrix\n",
    "corr = round(df_subset[[\"mean_steps\", \"weight\", \"height\"]].corr(), 2)\n",
    "corr"
   ]
  },
  {
   "cell_type": "markdown",
   "metadata": {},
   "source": [
    "Conclusions from the correlation matrix:\n",
    "\n",
    "* weight and height are moderately correlated (0.8 $>$ _r_ $\\ge$ 0.4), as was to be expected\n",
    "* mean steps has a very weak negative correlation with both weight and height (0 $>$ _r_ $\\ge$ -0.4)"
   ]
  },
  {
   "cell_type": "code",
   "execution_count": 5,
   "metadata": {},
   "outputs": [
    {
     "data": {
      "image/png": "[encoded data removed]",
      "text/plain": [
       "<Figure size 360x360 with 1 Axes>"
      ]
     },
     "metadata": {
      "needs_background": "light"
     },
     "output_type": "display_data"
    }
   ],
   "source": [
    "# Set palette\n",
    "sns.set_palette(sns.color_palette(\"bwr\"))\n",
    "\n",
    "# Scatter plot (weight)\n",
    "sns.lmplot(x=\"weight\", y=\"mean_steps\", fit_reg=False, data=df_subset)\n",
    "plt.title(\"Mean steps related to weight\")\n",
    "plt.ylabel(\"Mean steps\")\n",
    "plt.xlabel(\"Weight\")\n",
    "plt.show()"
   ]
  },
  {
   "cell_type": "markdown",
   "metadata": {},
   "source": [
    "The first scatter plot (weight) shows:\n",
    "\n",
    "* most dots overlapping in the same area, meaning that most Fitbit users weigh 40-100 kg and walk 2.500-10.000 mean steps;\n",
    "* this oval shape has no linear correlation"
   ]
  },
  {
   "cell_type": "code",
   "execution_count": 6,
   "metadata": {
    "scrolled": false
   },
   "outputs": [
    {
     "data": {
      "image/png": "[encoded data removed]",
      "text/plain": [
       "<Figure size 360x360 with 1 Axes>"
      ]
     },
     "metadata": {
      "needs_background": "light"
     },
     "output_type": "display_data"
    }
   ],
   "source": [
    "# Set palette\n",
    "sns.set_palette(sns.color_palette(\"bwr\"))\n",
    "\n",
    "# Scatter plot (height)\n",
    "sns.lmplot(x=\"height\", y=\"mean_steps\", fit_reg=False, data=df_subset)\n",
    "plt.title(\"Mean steps related to height\")\n",
    "plt.ylabel(\"Mean steps\")\n",
    "plt.xlabel(\"Height\")\n",
    "plt.show()"
   ]
  },
  {
   "cell_type": "markdown",
   "metadata": {},
   "source": [
    "The second scatter plot (height) shows:\n",
    "\n",
    "* the most common heights as darker vertical lines (160, 170, 175, and 180 cm);\n",
    "* along these vertical lines (and for other weights as well) users' means steps are far apart;\n",
    "* this oval-shape has no linear correlation"
   ]
  },
  {
   "cell_type": "markdown",
   "metadata": {},
   "source": [
    "### Pearson's _r_"
   ]
  },
  {
   "cell_type": "code",
   "execution_count": 7,
   "metadata": {},
   "outputs": [
    {
     "name": "stdout",
     "output_type": "stream",
     "text": [
      "(-0.0650422970326189, 0.049574185357116884)\n",
      "(-0.07594788646602638, 0.0218052196573397)\n"
     ]
    }
   ],
   "source": [
    "print(pearsonr(df_subset[\"mean_steps\"],df_subset[\"weight\"]))\n",
    "print(pearsonr(df_subset[\"mean_steps\"],df_subset[\"height\"]))"
   ]
  },
  {
   "cell_type": "markdown",
   "metadata": {},
   "source": [
    "The output shows two numbers: _r_ which is -0.065 / -0.075 and _p_ which is 0.049 / 0.021. This means:\n",
    "\n",
    "* mean steps has a very weak negative correlation with both weight and height (0 $>$ _r_ $\\ge$ -0.4)\n",
    "* _p_ is significant in both cases"
   ]
  },
  {
   "cell_type": "markdown",
   "metadata": {},
   "source": [
    "### The relation between mean steps per user, gender, and city"
   ]
  },
  {
   "cell_type": "code",
   "execution_count": 14,
   "metadata": {},
   "outputs": [
    {
     "data": {
      "text/plain": [
       "Male      494\n",
       "Female    435\n",
       "Name: gender, dtype: int64"
      ]
     },
     "execution_count": 14,
     "metadata": {},
     "output_type": "execute_result"
    }
   ],
   "source": [
    "# Check if the number of men and women are equally divided in the data\n",
    "pd.value_counts(df[\"gender\"])"
   ]
  },
  {
   "cell_type": "code",
   "execution_count": 9,
   "metadata": {},
   "outputs": [
    {
     "data": {
      "text/plain": [
       "Text(0.5, 0, 'City')"
      ]
     },
     "execution_count": 9,
     "metadata": {},
     "output_type": "execute_result"
    },
    {
     "data": {
      "image/png": "[encoded data removed]",
      "text/plain": [
       "<Figure size 432x288 with 1 Axes>"
      ]
     },
     "metadata": {
      "needs_background": "light"
     },
     "output_type": "display_data"
    }
   ],
   "source": [
    "# Bar plot\n",
    "ax = sns.barplot(x=\"city\", y=\"mean_steps\", hue=\"gender\", data=df_subset, palette=\"gist_yarg\")\n",
    "plt.title(\"Mean steps for men and women related to city\")\n",
    "plt.ylabel(\"Mean steps\")\n",
    "plt.xlabel(\"City\")"
   ]
  },
  {
   "cell_type": "markdown",
   "metadata": {},
   "source": [
    "Conclusions from the bar plot:\n",
    "\n",
    "* mean steps is quite evenly distributed between men and women in different cities\n",
    "* the biggest difference in mean steps between men and woman is found in Bordeaux, where on average, men walk 5.500 steps and women 7.000 steps\n",
    "* both men and women walk most in Lille"
   ]
  },
  {
   "cell_type": "code",
   "execution_count": 15,
   "metadata": {
    "scrolled": true
   },
   "outputs": [
    {
     "data": {
      "text/plain": [
       "Text(0.5, 0, 'City')"
      ]
     },
     "execution_count": 15,
     "metadata": {},
     "output_type": "execute_result"
    },
    {
     "data": {
      "image/png": "[encoded data removed]",
      "text/plain": [
       "<Figure size 432x288 with 1 Axes>"
      ]
     },
     "metadata": {
      "needs_background": "light"
     },
     "output_type": "display_data"
    }
   ],
   "source": [
    "# Violin plot\n",
    "ax = sns.violinplot(x=\"city\", y=\"mean_steps\", hue=\"gender\", split=True, data=df_subset, palette=\"gist_yarg\")\n",
    "plt.title(\"Mean steps for men and women related to city\")\n",
    "plt.ylabel(\"Mean steps\")\n",
    "plt.xlabel(\"City\")"
   ]
  },
  {
   "cell_type": "markdown",
   "metadata": {},
   "source": [
    "Conclusions from the violin plot:\n",
    "\n",
    "* a small number of users with high mean steps are pulling up the means of all violin plots\n",
    "* in Bordeaux, the mode for both men and women is 5.000 mean steps;\n",
    "* although the frequency of men having a mean of 5.000 steps is much higher\n",
    "* Lille has the thickest violin plot (and the longest interquartile range) and therefore the largest number of Fitbit users"
   ]
  },
  {
   "cell_type": "markdown",
   "metadata": {},
   "source": [
    "### The relation between gender and education"
   ]
  },
  {
   "cell_type": "code",
   "execution_count": 11,
   "metadata": {},
   "outputs": [
    {
     "data": {
      "image/png": "[encoded data removed]",
      "text/plain": [
       "<Figure size 432x288 with 1 Axes>"
      ]
     },
     "metadata": {
      "needs_background": "light"
     },
     "output_type": "display_data"
    }
   ],
   "source": [
    "# Count plot\n",
    "sns.countplot(x=\"education_1\", hue=\"gender\", data=df_subset, palette=\"gist_yarg\")\n",
    "plt.title(\"Gender related to education\")\n",
    "plt.ylabel(\"Count\")\n",
    "plt.xlabel(\"Education\")\n",
    "plt.show()"
   ]
  },
  {
   "cell_type": "markdown",
   "metadata": {},
   "source": [
    "Conclusions from the count plot:\n",
    "\n",
    "* most Fitbit users (men and women) are (highly) educated\n",
    "* significantly more men than women have a master or doctorate"
   ]
  },
  {
   "cell_type": "code",
   "execution_count": 12,
   "metadata": {},
   "outputs": [
    {
     "data": {
      "text/html": [
       "<div>\n",
       "<style scoped>\n",
       "    .dataframe tbody tr th:only-of-type {\n",
       "        vertical-align: middle;\n",
       "    }\n",
       "\n",
       "    .dataframe tbody tr th {\n",
       "        vertical-align: top;\n",
       "    }\n",
       "\n",
       "    .dataframe thead th {\n",
       "        text-align: right;\n",
       "    }\n",
       "</style>\n",
       "<table border=\"1\" class=\"dataframe\">\n",
       "  <thead>\n",
       "    <tr style=\"text-align: right;\">\n",
       "      <th>education_1</th>\n",
       "      <th>Bachelor</th>\n",
       "      <th>High school</th>\n",
       "      <th>Master or doctorate</th>\n",
       "      <th>No degree</th>\n",
       "      <th>Primary</th>\n",
       "      <th>Vocational</th>\n",
       "    </tr>\n",
       "    <tr>\n",
       "      <th>gender</th>\n",
       "      <th></th>\n",
       "      <th></th>\n",
       "      <th></th>\n",
       "      <th></th>\n",
       "      <th></th>\n",
       "      <th></th>\n",
       "    </tr>\n",
       "  </thead>\n",
       "  <tbody>\n",
       "    <tr>\n",
       "      <th>Female</th>\n",
       "      <td>42.92</td>\n",
       "      <td>14.39</td>\n",
       "      <td>36.32</td>\n",
       "      <td>0.0</td>\n",
       "      <td>1.65</td>\n",
       "      <td>4.72</td>\n",
       "    </tr>\n",
       "    <tr>\n",
       "      <th>Male</th>\n",
       "      <td>34.63</td>\n",
       "      <td>8.81</td>\n",
       "      <td>51.23</td>\n",
       "      <td>0.2</td>\n",
       "      <td>1.23</td>\n",
       "      <td>3.89</td>\n",
       "    </tr>\n",
       "  </tbody>\n",
       "</table>\n",
       "</div>"
      ],
      "text/plain": [
       "education_1  Bachelor  High school  Master or doctorate  No degree  Primary  \\\n",
       "gender                                                                        \n",
       "Female          42.92        14.39                36.32        0.0     1.65   \n",
       "Male            34.63         8.81                51.23        0.2     1.23   \n",
       "\n",
       "education_1  Vocational  \n",
       "gender                   \n",
       "Female             4.72  \n",
       "Male               3.89  "
      ]
     },
     "execution_count": 12,
     "metadata": {},
     "output_type": "execute_result"
    }
   ],
   "source": [
    "# Cross table\n",
    "round(pd.crosstab(df_subset[\"gender\"],df_subset[\"education_1\"], normalize=\"index\") * 100, 2)"
   ]
  }
 ],
 "metadata": {
  "kernelspec": {
   "display_name": "Python 3",
   "language": "python",
   "name": "python3"
  },
  "language_info": {
   "codemirror_mode": {
    "name": "ipython",
    "version": 3
   },
   "file_extension": ".py",
   "mimetype": "text/x-python",
   "name": "python",
   "nbconvert_exporter": "python",
   "pygments_lexer": "ipython3",
   "version": "3.8.3"
  }
 },
 "nbformat": 4,
 "nbformat_minor": 4
}
